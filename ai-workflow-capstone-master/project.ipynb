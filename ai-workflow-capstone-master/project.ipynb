{
 "cells": [
  {
   "cell_type": "markdown",
   "metadata": {},
   "source": [
    "# Project"
   ]
  },
  {
   "cell_type": "code",
   "execution_count": 1,
   "metadata": {},
   "outputs": [],
   "source": [
    "import pandas as pd\n",
    "import numpy as np\n",
    "import matplotlib.pyplot as plt\n",
    "import seaborn as sns\n",
    "import glob\n",
    "import os, json, re, sys\n",
    "from statsmodels.tsa.arima_model import ARIMA\n",
    "from sklearn.metrics import mean_squared_error\n",
    "from math import sqrt\n",
    "import warnings\n",
    "warnings.filterwarnings('ignore')"
   ]
  },
  {
   "cell_type": "code",
   "execution_count": 2,
   "metadata": {},
   "outputs": [],
   "source": [
    "train_path = r'your_path'\n",
    "production_path = r'your_path'"
   ]
  },
  {
   "cell_type": "code",
   "execution_count": 3,
   "metadata": {},
   "outputs": [],
   "source": [
    "def fetch_data(data_dir):\n",
    "    \"\"\"\n",
    "    laod all json formatted files into a dataframe\n",
    "    \"\"\"\n",
    "\n",
    "    ## input testing\n",
    "    if not os.path.isdir(data_dir):\n",
    "        raise Exception(\"specified data dir does not exist\")\n",
    "    if not len(os.listdir(data_dir)) > 0:\n",
    "        raise Exception(\"specified data dir does not contain any files\")\n",
    "\n",
    "    file_list = [os.path.join(data_dir,f) for f in os.listdir(data_dir) if re.search(\"\\.json\",f)]\n",
    "    correct_columns = ['country', 'customer_id', 'day', 'invoice', 'month',\n",
    "                       'price', 'stream_id', 'times_viewed', 'year']\n",
    "\n",
    "    ## read data into a temp structure\n",
    "    all_months = {}\n",
    "    for file_name in file_list:\n",
    "        df = pd.read_json(file_name)\n",
    "        all_months[os.path.split(file_name)[-1]] = df\n",
    "\n",
    "    ## ensure the data are formatted with correct columns\n",
    "    for f,df in all_months.items():\n",
    "        cols = set(df.columns.tolist())\n",
    "        if 'StreamID' in cols:\n",
    "             df.rename(columns={'StreamID':'stream_id'},inplace=True)\n",
    "        if 'TimesViewed' in cols:\n",
    "            df.rename(columns={'TimesViewed':'times_viewed'},inplace=True)\n",
    "        if 'total_price' in cols:\n",
    "            df.rename(columns={'total_price':'price'},inplace=True)\n",
    "\n",
    "        cols = df.columns.tolist()\n",
    "        if sorted(cols) != correct_columns:\n",
    "            raise Exception(\"columns name could not be matched to correct cols\")\n",
    "\n",
    "    ## concat all of the data\n",
    "    df = pd.concat(list(all_months.values()),sort=True)\n",
    "    years,months,days = df['year'].values,df['month'].values,df['day'].values \n",
    "    dates = [\"{}-{}-{}\".format(years[i],str(months[i]).zfill(2),str(days[i]).zfill(2)) for i in range(df.shape[0])]\n",
    "    df['invoice_date'] = np.array(dates,dtype='datetime64[D]')\n",
    "    df['invoice'] = [re.sub(\"\\D+\",\"\",i) for i in df['invoice'].values]\n",
    "    \n",
    "    ## sort by date and reset the index\n",
    "    df.sort_values(by='invoice_date',inplace=True)\n",
    "    df.reset_index(drop=True,inplace=True)\n",
    "    \n",
    "    return(df)"
   ]
  },
  {
   "cell_type": "code",
   "execution_count": 4,
   "metadata": {},
   "outputs": [],
   "source": [
    "train = fetch_data(train_path)\n",
    "test = fetch_data(production_path)"
   ]
  },
  {
   "cell_type": "code",
   "execution_count": 5,
   "metadata": {},
   "outputs": [
    {
     "data": {
      "text/html": [
       "<div>\n",
       "<style scoped>\n",
       "    .dataframe tbody tr th:only-of-type {\n",
       "        vertical-align: middle;\n",
       "    }\n",
       "\n",
       "    .dataframe tbody tr th {\n",
       "        vertical-align: top;\n",
       "    }\n",
       "\n",
       "    .dataframe thead th {\n",
       "        text-align: right;\n",
       "    }\n",
       "</style>\n",
       "<table border=\"1\" class=\"dataframe\">\n",
       "  <thead>\n",
       "    <tr style=\"text-align: right;\">\n",
       "      <th></th>\n",
       "      <th>country</th>\n",
       "      <th>customer_id</th>\n",
       "      <th>day</th>\n",
       "      <th>invoice</th>\n",
       "      <th>month</th>\n",
       "      <th>price</th>\n",
       "      <th>stream_id</th>\n",
       "      <th>times_viewed</th>\n",
       "      <th>year</th>\n",
       "      <th>invoice_date</th>\n",
       "    </tr>\n",
       "  </thead>\n",
       "  <tbody>\n",
       "    <tr>\n",
       "      <th>0</th>\n",
       "      <td>United Kingdom</td>\n",
       "      <td>13085.0</td>\n",
       "      <td>28</td>\n",
       "      <td>489434</td>\n",
       "      <td>11</td>\n",
       "      <td>6.95</td>\n",
       "      <td>85048</td>\n",
       "      <td>12</td>\n",
       "      <td>2017</td>\n",
       "      <td>2017-11-28</td>\n",
       "    </tr>\n",
       "    <tr>\n",
       "      <th>1</th>\n",
       "      <td>United Kingdom</td>\n",
       "      <td>13085.0</td>\n",
       "      <td>28</td>\n",
       "      <td>489434</td>\n",
       "      <td>11</td>\n",
       "      <td>6.75</td>\n",
       "      <td>79323W</td>\n",
       "      <td>12</td>\n",
       "      <td>2017</td>\n",
       "      <td>2017-11-28</td>\n",
       "    </tr>\n",
       "    <tr>\n",
       "      <th>2</th>\n",
       "      <td>United Kingdom</td>\n",
       "      <td>13085.0</td>\n",
       "      <td>28</td>\n",
       "      <td>489434</td>\n",
       "      <td>11</td>\n",
       "      <td>2.10</td>\n",
       "      <td>22041</td>\n",
       "      <td>21</td>\n",
       "      <td>2017</td>\n",
       "      <td>2017-11-28</td>\n",
       "    </tr>\n",
       "    <tr>\n",
       "      <th>3</th>\n",
       "      <td>United Kingdom</td>\n",
       "      <td>13085.0</td>\n",
       "      <td>28</td>\n",
       "      <td>489434</td>\n",
       "      <td>11</td>\n",
       "      <td>1.25</td>\n",
       "      <td>21232</td>\n",
       "      <td>5</td>\n",
       "      <td>2017</td>\n",
       "      <td>2017-11-28</td>\n",
       "    </tr>\n",
       "    <tr>\n",
       "      <th>4</th>\n",
       "      <td>United Kingdom</td>\n",
       "      <td>13085.0</td>\n",
       "      <td>28</td>\n",
       "      <td>489434</td>\n",
       "      <td>11</td>\n",
       "      <td>1.65</td>\n",
       "      <td>22064</td>\n",
       "      <td>17</td>\n",
       "      <td>2017</td>\n",
       "      <td>2017-11-28</td>\n",
       "    </tr>\n",
       "  </tbody>\n",
       "</table>\n",
       "</div>"
      ],
      "text/plain": [
       "          country  customer_id  day invoice  month  price stream_id  \\\n",
       "0  United Kingdom      13085.0   28  489434     11   6.95     85048   \n",
       "1  United Kingdom      13085.0   28  489434     11   6.75    79323W   \n",
       "2  United Kingdom      13085.0   28  489434     11   2.10     22041   \n",
       "3  United Kingdom      13085.0   28  489434     11   1.25     21232   \n",
       "4  United Kingdom      13085.0   28  489434     11   1.65     22064   \n",
       "\n",
       "   times_viewed  year invoice_date  \n",
       "0            12  2017   2017-11-28  \n",
       "1            12  2017   2017-11-28  \n",
       "2            21  2017   2017-11-28  \n",
       "3             5  2017   2017-11-28  \n",
       "4            17  2017   2017-11-28  "
      ]
     },
     "execution_count": 5,
     "metadata": {},
     "output_type": "execute_result"
    }
   ],
   "source": [
    "train.head()"
   ]
  },
  {
   "cell_type": "code",
   "execution_count": 6,
   "metadata": {},
   "outputs": [
    {
     "data": {
      "text/html": [
       "<div>\n",
       "<style scoped>\n",
       "    .dataframe tbody tr th:only-of-type {\n",
       "        vertical-align: middle;\n",
       "    }\n",
       "\n",
       "    .dataframe tbody tr th {\n",
       "        vertical-align: top;\n",
       "    }\n",
       "\n",
       "    .dataframe thead th {\n",
       "        text-align: right;\n",
       "    }\n",
       "</style>\n",
       "<table border=\"1\" class=\"dataframe\">\n",
       "  <thead>\n",
       "    <tr style=\"text-align: right;\">\n",
       "      <th></th>\n",
       "      <th>price</th>\n",
       "      <th>times_viewed</th>\n",
       "    </tr>\n",
       "    <tr>\n",
       "      <th>invoice_date</th>\n",
       "      <th></th>\n",
       "      <th></th>\n",
       "    </tr>\n",
       "  </thead>\n",
       "  <tbody>\n",
       "    <tr>\n",
       "      <th>2017-11-28</th>\n",
       "      <td>14450.54</td>\n",
       "      <td>15047</td>\n",
       "    </tr>\n",
       "    <tr>\n",
       "      <th>2017-11-29</th>\n",
       "      <td>13411.96</td>\n",
       "      <td>14159</td>\n",
       "    </tr>\n",
       "    <tr>\n",
       "      <th>2017-11-30</th>\n",
       "      <td>13290.25</td>\n",
       "      <td>15766</td>\n",
       "    </tr>\n",
       "    <tr>\n",
       "      <th>2017-12-01</th>\n",
       "      <td>9687.28</td>\n",
       "      <td>12524</td>\n",
       "    </tr>\n",
       "    <tr>\n",
       "      <th>2017-12-02</th>\n",
       "      <td>1443.26</td>\n",
       "      <td>3313</td>\n",
       "    </tr>\n",
       "  </tbody>\n",
       "</table>\n",
       "</div>"
      ],
      "text/plain": [
       "                 price  times_viewed\n",
       "invoice_date                        \n",
       "2017-11-28    14450.54         15047\n",
       "2017-11-29    13411.96         14159\n",
       "2017-11-30    13290.25         15766\n",
       "2017-12-01     9687.28         12524\n",
       "2017-12-02     1443.26          3313"
      ]
     },
     "execution_count": 6,
     "metadata": {},
     "output_type": "execute_result"
    }
   ],
   "source": [
    "grouped_train = train.groupby(by='invoice_date').aggregate({'price':'sum','times_viewed':'sum'}).reset_index()\n",
    "grouped_test = test.groupby(by='invoice_date').aggregate({'price':'sum','times_viewed':'sum'}).reset_index()\n",
    "grouped_train.set_index('invoice_date',inplace=True)\n",
    "grouped_test.set_index('invoice_date',inplace=True)\n",
    "grouped_train.head()"
   ]
  },
  {
   "cell_type": "code",
   "execution_count": 7,
   "metadata": {},
   "outputs": [
    {
     "data": {
      "text/plain": [
       "(array([17471., 17532., 17591., 17652., 17713., 17775., 17836., 17897.,\n",
       "        17956., 18017., 18078.]),\n",
       " [Text(0, 0, ''),\n",
       "  Text(0, 0, ''),\n",
       "  Text(0, 0, ''),\n",
       "  Text(0, 0, ''),\n",
       "  Text(0, 0, ''),\n",
       "  Text(0, 0, ''),\n",
       "  Text(0, 0, ''),\n",
       "  Text(0, 0, ''),\n",
       "  Text(0, 0, ''),\n",
       "  Text(0, 0, ''),\n",
       "  Text(0, 0, '')])"
      ]
     },
     "execution_count": 7,
     "metadata": {},
     "output_type": "execute_result"
    },
    {
     "data": {
      "image/png": "[encoded data removed]",
      "text/plain": [
       "<Figure size 432x288 with 1 Axes>"
      ]
     },
     "metadata": {
      "needs_background": "light"
     },
     "output_type": "display_data"
    }
   ],
   "source": [
    "plt.plot(grouped_train)\n",
    "plt.xticks(rotation=90)"
   ]
  },
  {
   "cell_type": "code",
   "execution_count": 8,
   "metadata": {},
   "outputs": [
    {
     "data": {
      "image/png": "[encoded data removed]",
      "text/plain": [
       "<Figure size 432x288 with 1 Axes>"
      ]
     },
     "execution_count": 8,
     "metadata": {},
     "output_type": "execute_result"
    },
    {
     "data": {
      "image/png": "[encoded data removed]",
      "text/plain": [
       "<Figure size 432x288 with 1 Axes>"
      ]
     },
     "metadata": {
      "needs_background": "light"
     },
     "output_type": "display_data"
    },
    {
     "data": {
      "image/png": "[encoded data removed]",
      "text/plain": [
       "<Figure size 432x288 with 1 Axes>"
      ]
     },
     "metadata": {
      "needs_background": "light"
     },
     "output_type": "display_data"
    }
   ],
   "source": [
    "from statsmodels.graphics.tsaplots import plot_acf, plot_pacf\n",
    "plot_acf(grouped_train['price'])\n",
    "plot_pacf(grouped_train['price'])"
   ]
  },
  {
   "cell_type": "code",
   "execution_count": 9,
   "metadata": {},
   "outputs": [],
   "source": [
    "model = ARIMA(grouped_train['price'], order=(1,1,1))\n",
    "results = model.fit()"
   ]
  },
  {
   "cell_type": "code",
   "execution_count": 10,
   "metadata": {},
   "outputs": [
    {
     "name": "stdout",
     "output_type": "stream",
     "text": [
      "                             ARIMA Model Results                              \n",
      "==============================================================================\n",
      "Dep. Variable:                D.price   No. Observations:                  494\n",
      "Model:                 ARIMA(1, 1, 1)   Log Likelihood               -5293.300\n",
      "Method:                       css-mle   S.D. of innovations          10872.792\n",
      "Date:                Mon, 19 Apr 2021   AIC                          10594.601\n",
      "Time:                        09:12:17   BIC                          10611.411\n",
      "Sample:                             1   HQIC                         10601.200\n",
      "                                                                              \n",
      "=================================================================================\n",
      "                    coef    std err          z      P>|z|      [0.025      0.975]\n",
      "---------------------------------------------------------------------------------\n",
      "const            -3.7799     27.419     -0.138      0.890     -57.521      49.961\n",
      "ar.L1.D.price     0.0656      0.051      1.281      0.200      -0.035       0.166\n",
      "ma.L1.D.price    -0.9498      0.024    -39.391      0.000      -0.997      -0.902\n",
      "                                    Roots                                    \n",
      "=============================================================================\n",
      "                  Real          Imaginary           Modulus         Frequency\n",
      "-----------------------------------------------------------------------------\n",
      "AR.1           15.2376           +0.0000j           15.2376            0.0000\n",
      "MA.1            1.0529           +0.0000j            1.0529            0.0000\n",
      "-----------------------------------------------------------------------------\n"
     ]
    },
    {
     "data": {
      "image/png": "[encoded data removed]",
      "text/plain": [
       "<Figure size 432x288 with 1 Axes>"
      ]
     },
     "metadata": {
      "needs_background": "light"
     },
     "output_type": "display_data"
    }
   ],
   "source": [
    "print(results.summary())\n",
    "residuals = pd.DataFrame(results.resid)\n",
    "residuals.plot()\n",
    "plt.show()"
   ]
  },
  {
   "cell_type": "code",
   "execution_count": 16,
   "metadata": {},
   "outputs": [
    {
     "name": "stdout",
     "output_type": "stream",
     "text": [
      "predicted=6775.472577, expected=6477.520000\n",
      "predicted=6971.086990, expected=4666.740000\n",
      "predicted=5900.796672, expected=1310.750000\n",
      "predicted=6259.484667, expected=8444.060000\n",
      "predicted=6395.219293, expected=4280.670000\n",
      "predicted=5006.817640, expected=6398.080000\n",
      "predicted=5574.042227, expected=14197.550000\n",
      "predicted=6723.218149, expected=-6946.440000\n",
      "predicted=4662.028950, expected=2148.460000\n",
      "predicted=4124.647195, expected=2759.840000\n",
      "predicted=2510.312882, expected=3041.850000\n",
      "predicted=4201.967154, expected=8401.740000\n",
      "predicted=3643.992354, expected=4655.230000\n",
      "predicted=3034.920088, expected=2273.590000\n",
      "predicted=4053.421674, expected=3326.300000\n",
      "predicted=3653.917703, expected=3599.880000\n",
      "predicted=4092.105783, expected=4402.640000\n",
      "predicted=4324.203565, expected=18434.440000\n",
      "predicted=6772.282147, expected=5540.050000\n",
      "predicted=6976.557938, expected=2623.570000\n",
      "predicted=6700.294750, expected=2839.430000\n",
      "predicted=5032.295952, expected=15682.570000\n",
      "predicted=8649.877231, expected=6112.930000\n",
      "predicted=8513.948993, expected=3538.230000\n",
      "predicted=6431.104364, expected=10831.840000\n",
      "predicted=6445.508698, expected=3688.450000\n",
      "predicted=7277.020859, expected=4608.140000\n",
      "predicted=7147.990523, expected=3456.820000\n",
      "predicted=4735.261798, expected=10083.690000\n",
      "predicted=6366.081668, expected=5506.240000\n",
      "predicted=6262.204622, expected=5801.750000\n",
      "predicted=5865.539194, expected=5891.450000\n",
      "predicted=5567.001121, expected=5365.920000\n",
      "predicted=6117.353499, expected=8955.440000\n",
      "predicted=6845.735310, expected=4233.440000\n",
      "predicted=5986.896277, expected=25498.230000\n",
      "predicted=10233.343471, expected=7239.680000\n",
      "predicted=10052.923488, expected=3659.520000\n",
      "predicted=9858.638880, expected=9538.990000\n",
      "predicted=8359.929110, expected=7132.650000\n",
      "predicted=9767.534309, expected=14382.710000\n",
      "predicted=11089.702851, expected=8238.570000\n",
      "predicted=8447.338680, expected=9697.010000\n",
      "predicted=9305.210233, expected=5630.071000\n",
      "predicted=8505.246016, expected=6052.681000\n",
      "predicted=8452.286212, expected=6823.740000\n",
      "predicted=7848.085427, expected=9160.700000\n",
      "predicted=7707.618811, expected=7188.150000\n",
      "predicted=7420.455729, expected=7031.100000\n",
      "predicted=7089.724807, expected=3742.430000\n",
      "predicted=6378.487525, expected=12685.850000\n",
      "predicted=7900.214484, expected=10178.910000\n",
      "predicted=8466.187310, expected=7605.900000\n",
      "predicted=8595.277032, expected=9950.340000\n",
      "predicted=8308.971854, expected=13428.760000\n",
      "predicted=9952.257634, expected=3418.620000\n",
      "predicted=9432.442600, expected=14532.650000\n",
      "predicted=9882.754300, expected=8147.760000\n",
      "predicted=9245.637952, expected=7587.470000\n",
      "predicted=9979.477198, expected=8818.510000\n",
      "predicted=8577.981077, expected=7246.190000\n",
      "predicted=8498.257399, expected=4307.240000\n",
      "predicted=8013.708192, expected=12819.660000\n",
      "predicted=8117.952037, expected=9220.440000\n",
      "predicted=8511.806242, expected=20575.570000\n",
      "predicted=11457.447079, expected=7120.890000\n",
      "predicted=10332.978645, expected=4151.830000\n",
      "predicted=9987.104665, expected=4753.190000\n",
      "predicted=8327.212061, expected=17005.350000\n",
      "predicted=10729.193604, expected=7354.830000\n",
      "predicted=10115.529395, expected=7333.510000\n",
      "predicted=8381.030324, expected=20672.570000\n",
      "predicted=10171.027912, expected=5845.610000\n",
      "predicted=11085.437352, expected=7547.440000\n",
      "predicted=10923.335460, expected=27382.570000\n",
      "predicted=12463.637330, expected=5220.540000\n",
      "predicted=13161.182268, expected=9318.440000\n",
      "predicted=12838.240174, expected=7837.720000\n",
      "predicted=9104.999996, expected=8744.890000\n",
      "predicted=11409.407272, expected=9458.880000\n",
      "predicted=10531.862231, expected=22665.750000\n",
      "predicted=11293.434145, expected=16788.070000\n",
      "predicted=13274.361750, expected=8781.160000\n",
      "predicted=13098.632610, expected=13371.500000\n",
      "predicted=12721.111780, expected=14116.550000\n",
      "predicted=14014.755040, expected=9141.780000\n",
      "predicted=14044.144779, expected=15262.540000\n",
      "predicted=12738.273262, expected=13241.650000\n",
      "predicted=12344.450144, expected=16784.080000\n",
      "predicted=14174.374904, expected=11881.450000\n",
      "predicted=13282.176252, expected=12070.650000\n",
      "predicted=13252.668302, expected=10454.850000\n",
      "predicted=12759.818111, expected=9420.890000\n",
      "predicted=12139.751654, expected=13066.730000\n",
      "predicted=12008.763543, expected=16560.470000\n",
      "predicted=12494.575502, expected=13548.730000\n",
      "predicted=12959.616432, expected=14484.610000\n",
      "predicted=13199.658906, expected=6497.720000\n",
      "predicted=11936.989074, expected=13875.510000\n",
      "predicted=12844.229572, expected=18797.660000\n",
      "predicted=13793.066541, expected=15757.030000\n",
      "predicted=14646.286944, expected=10330.460000\n",
      "predicted=13328.683419, expected=10352.040000\n",
      "predicted=12308.491566, expected=5589.010000\n",
      "predicted=11776.369842, expected=57195.740000\n",
      "predicted=20959.078969, expected=10364.640000\n",
      "predicted=19566.492010, expected=9049.190000\n",
      "predicted=19078.262232, expected=21808.100000\n",
      "predicted=16105.511518, expected=9226.480000\n",
      "Test RMSE: 6880.918\n"
     ]
    },
    {
     "data": {
      "image/png": "[encoded data removed]",
      "text/plain": [
       "<Figure size 432x288 with 1 Axes>"
      ]
     },
     "metadata": {
      "needs_background": "light"
     },
     "output_type": "display_data"
    }
   ],
   "source": [
    "history = [x for x in grouped_train['price']]\n",
    "predictions = list()\n",
    "# walk-forward validation\n",
    "for t in range(len(grouped_test)):\n",
    "    model = ARIMA(history, order=(1,1,1))\n",
    "    model_fit = model.fit()\n",
    "    output = model_fit.forecast()\n",
    "    yhat = output[0]\n",
    "    predictions.append(yhat)\n",
    "    obs = grouped_test['price'][t]\n",
    "    history.append(obs)\n",
    "    print('predicted=%f, expected=%f' % (yhat, obs))\n",
    "# evaluate forecasts\n",
    "rmse = sqrt(mean_squared_error(grouped_test['price'], predictions))\n",
    "print('Test RMSE: %.3f' % rmse)\n",
    "grouped_test['predictions'] = predictions\n",
    "# plot forecasts against actual outcomes\n",
    "plt.plot(grouped_test['price'])\n",
    "plt.plot(grouped_test['predictions'], color='red')\n",
    "plt.xticks(rotation=90)\n",
    "plt.show()"
   ]
  },
  {
   "cell_type": "code",
   "execution_count": null,
   "metadata": {},
   "outputs": [],
   "source": []
  },
  {
   "cell_type": "code",
   "execution_count": 40,
   "metadata": {},
   "outputs": [],
   "source": []
  },
  {
   "cell_type": "code",
   "execution_count": null,
   "metadata": {},
   "outputs": [],
   "source": []
  },
  {
   "cell_type": "code",
   "execution_count": 49,
   "metadata": {},
   "outputs": [],
   "source": []
  },
  {
   "cell_type": "code",
   "execution_count": null,
   "metadata": {},
   "outputs": [],
   "source": []
  },
  {
   "cell_type": "code",
   "execution_count": 44,
   "metadata": {},
   "outputs": [
    {
     "name": "stdout",
     "output_type": "stream",
     "text": [
      "Overwriting Dockerfile\n"
     ]
    }
   ],
   "source": [
    "%%writefile Dockerfile\n",
    "\n",
    "# Use an official Python runtime as a parent image\n",
    "# FROM python:3.8-slim-buster\n",
    "# FROM python:3.7.5-stretch\n",
    "FROM python:3.9\n",
    "\n",
    "RUN apt-get update && apt-get install -y \\\n",
    "python3-dev \\\n",
    "build-essential    \n",
    "        \n",
    "# Set the working directory to /app\n",
    "WORKDIR /app\n",
    "\n",
    "# Copy the current directory contents into the container at /app\n",
    "ADD . /app\n",
    "\n",
    "# Install any needed packages specified in requirements.txt\n",
    "RUN pip install --upgrade pip\n",
    "RUN pip install --no-cache-dir -r requirements.txt\n",
    "\n",
    "# Make port 80 available to the world outside this container\n",
    "EXPOSE 80\n",
    "\n",
    "# Define environment variable\n",
    "ENV NAME World\n",
    "\n",
    "# Run app.py when the container launches\n",
    "CMD [\"python\", \"app.py\"]"
   ]
  },
  {
   "cell_type": "code",
   "execution_count": null,
   "metadata": {},
   "outputs": [],
   "source": []
  },
  {
   "cell_type": "code",
   "execution_count": 29,
   "metadata": {},
   "outputs": [
    {
     "name": "stdout",
     "output_type": "stream",
     "text": [
      "Requirement already satisfied: joblib in c:\\users\\alexanderwhite\\anaconda3\\lib\\site-packages (0.17.0)\n"
     ]
    }
   ],
   "source": []
  }
 ],
 "metadata": {
  "kernelspec": {
   "display_name": "Python 3",
   "language": "python",
   "name": "python3"
  },
  "language_info": {
   "codemirror_mode": {
    "name": "ipython",
    "version": 3
   },
   "file_extension": ".py",
   "mimetype": "text/x-python",
   "name": "python",
   "nbconvert_exporter": "python",
   "pygments_lexer": "ipython3",
   "version": "3.8.5"
  }
 },
 "nbformat": 4,
 "nbformat_minor": 4
}
